{
 "cells": [
  {
   "cell_type": "code",
   "execution_count": 1,
   "id": "2130647e-10d9-4858-8e64-5c8c1cdbedec",
   "metadata": {},
   "outputs": [],
   "source": [
    "from langchain_nvidia_ai_endpoints import NVIDIAEmbeddings, ChatNVIDIA"
   ]
  },
  {
   "cell_type": "code",
   "execution_count": 2,
   "id": "e4499692-32a6-4a5a-9a72-34062a05ce5d",
   "metadata": {},
   "outputs": [],
   "source": [
    "from langchain_community.document_loaders import DirectoryLoader"
   ]
  },
  {
   "cell_type": "code",
   "execution_count": 3,
   "id": "cf4c7f53-f598-448c-8e2e-0ba374149e26",
   "metadata": {},
   "outputs": [
    {
     "name": "stdout",
     "output_type": "stream",
     "text": [
      "NVIDIA_API_KEY loaded successfully.\n"
     ]
    }
   ],
   "source": [
    "# Load environment variables\n",
    "from dotenv import load_dotenv\n",
    "import os\n",
    "\n",
    "load_dotenv()\n",
    "\n",
    "nvidia_api_key = os.getenv('NVIDIA_API_KEY')\n",
    "\n",
    "if nvidia_api_key is None:\n",
    "    raise ValueError(\"NVIDIA_API_KEY not found in .env file\")\n",
    "\n",
    "os.environ['NVIDIA_API_KEY'] = nvidia_api_key\n",
    "\n",
    "print(\"NVIDIA_API_KEY loaded successfully.\")"
   ]
  },
  {
   "cell_type": "code",
   "execution_count": 4,
   "id": "8fc1d45c-f6f2-435e-bb28-af31edace77c",
   "metadata": {},
   "outputs": [],
   "source": [
    "import os\n",
    "\n",
    "os.environ[\"GROQ_API_KEY\"] = \"gsk_...\"\n",
    "os.environ[\"TOKENIZERS_PARALLELISM\"] = \"false\" # To suppress huggingface warnings"
   ]
  },
  {
   "cell_type": "code",
   "execution_count": 5,
   "id": "fcffa182-a3d7-4b9f-bce0-cb02417755f9",
   "metadata": {},
   "outputs": [],
   "source": [
    "## Necessary for Colab, not necessary for course environment\n",
    "# %pip install -qq langchain langchain-nvidia-ai-endpoints gradio\n",
    "\n",
    "\n",
    "# import os\n",
    "# os.environ[\"NVIDIA_API_KEY\"] = \"nvapi-...\"\n",
    "\n",
    "from functools import partial\n",
    "from rich.console import Console\n",
    "from rich.style import Style\n",
    "from rich.theme import Theme\n",
    "\n",
    "console = Console()\n",
    "base_style = Style(color=\"#76B900\", bold=True)\n",
    "pprint = partial(console.print, style=base_style)"
   ]
  },
  {
   "cell_type": "code",
   "execution_count": 6,
   "id": "429fa033-69a6-4716-9adf-53df7d4c5ffc",
   "metadata": {},
   "outputs": [],
   "source": [
    "from langchain_core.runnables import RunnableLambda\n",
    "from functools import partial\n",
    "\n",
    "def RPrint(preface=\"State: \"):\n",
    "    def print_and_return(x, preface=\"\"):\n",
    "        print(f\"{preface}{x}\")\n",
    "        return x\n",
    "    return RunnableLambda(partial(print_and_return, preface=preface))\n",
    "\n",
    "def PPrint(preface=\"State: \"):\n",
    "    def print_and_return(x, preface=\"\"):\n",
    "        pprint(preface, x)\n",
    "        return x\n",
    "    return RunnableLambda(partial(print_and_return, preface=preface))"
   ]
  },
  {
   "cell_type": "code",
   "execution_count": 7,
   "id": "b159c102-9be0-4075-ba10-6562b096eeed",
   "metadata": {},
   "outputs": [
    {
     "name": "stderr",
     "output_type": "stream",
     "text": [
      "100%|██████████| 329/329 [00:00<00:00, 545.05it/s]\n"
     ]
    }
   ],
   "source": [
    "from langchain_community.document_loaders import DirectoryLoader, TextLoader\n",
    "\n",
    "# Load Markdown documents\n",
    "loader = DirectoryLoader(\n",
    "    './functions', \n",
    "    glob=\"**/*.md\", \n",
    "    loader_cls=TextLoader,\n",
    "    show_progress=True,\n",
    "    use_multithreading=True,\n",
    "    loader_kwargs={'autodetect_encoding': True}\n",
    ")\n",
    "\n",
    "# Load documents\n",
    "docs = loader.load()"
   ]
  },
  {
   "cell_type": "code",
   "execution_count": 8,
   "id": "25ffe093-c039-4757-ad98-5534fbea3a41",
   "metadata": {},
   "outputs": [
    {
     "name": "stdout",
     "output_type": "stream",
     "text": [
      "Sample loaded documents:\n",
      "Content: ---\n",
      "id: '1DIVVSjNfv48-LekRsKDHFuHEm1gBYphsCC18iR2WikU'\n",
      "title: 'E-Chart'\n",
      "date: '2020-02-27T19:44:20.933Z'\n",
      "version: 24\n",
      "mimeType: 'text/x-markdown'\n",
      "links: []\n",
      "source: 'https://drive.google.com/open?id=1DIVVSjNfv48-LekRsKDHFuHEm1gBYphsCC18iR2WikU'\n",
      "wikigdrive: 'dd69069d725fca5f553df7ded62e130a49d49ca6'\n",
      "---\n",
      "The electronic chart, or E-Chart, is an essential component of the {{% system-name %}} solution. It allows for a single, integrated view of all scanned and electronic documents, as well as all recor\n",
      "Metadata: {'source': 'functions\\\\e-chart.md'}\n",
      "\n",
      "Content: ---\n",
      "id: '1WybRBSEox5cSECcPwj3PJOArnmlFKwVMkNlT6gq1qSQ'\n",
      "title: 'Document Management'\n",
      "date: '2020-02-27T21:09:07.746Z'\n",
      "version: 42\n",
      "lastAuthor: 'aquandt'\n",
      "mimeType: 'text/x-markdown'\n",
      "links:\n",
      "  - 'document-management/documents-and-forms.md'\n",
      "  - 'document-management/scanning-and-indexing.md'\n",
      "  - 'document-management/printing-and-print-definitions.md'\n",
      "  - 'document-management/imaging.md'\n",
      "source: 'https://drive.google.com/open?id=1WybRBSEox5cSECcPwj3PJOArnmlFKwVMkNlT6gq1qSQ'\n",
      "wikigdrive: 'dd69069d725fca5f\n",
      "Metadata: {'source': 'functions\\\\document-management.md'}\n",
      "\n",
      "Content: ---\n",
      "id: '1eOjuYvCVKoiTlMeMzqy6HG8-S3ony9TFD_qIZvh3854'\n",
      "title: 'E-Sign (Electronic Signature)'\n",
      "date: '2020-02-27T20:10:15.661Z'\n",
      "version: 23\n",
      "mimeType: 'text/x-markdown'\n",
      "links: []\n",
      "source: 'https://drive.google.com/open?id=1eOjuYvCVKoiTlMeMzqy6HG8-S3ony9TFD_qIZvh3854'\n",
      "wikigdrive: 'dd69069d725fca5f553df7ded62e130a49d49ca6'\n",
      "---\n",
      "{{% system-name %}} offers the ability for electronic signature, or an e-sign option, designed to improve workflow efficiency. E-signatures can be requested manually, with note\n",
      "Metadata: {'source': 'functions\\\\e-sign-electronic-signature.md'}\n",
      "\n"
     ]
    }
   ],
   "source": [
    "# Print sample documents after loading\n",
    "print(\"Sample loaded documents:\")\n",
    "for doc in docs[:3]:\n",
    "    print(f\"Content: {doc.page_content[:500]}\")  # Print the first 500 characters\n",
    "    print(f\"Metadata: {doc.metadata}\\n\")\n"
   ]
  },
  {
   "cell_type": "code",
   "execution_count": 9,
   "id": "adf61d37-6a2d-4a86-ab90-9a5e2592b5b7",
   "metadata": {},
   "outputs": [
    {
     "name": "stdout",
     "output_type": "stream",
     "text": [
      "\n",
      "Sample documents after splitting by markdown headers:\n",
      "Content: ---\n",
      "id: '1DIVVSjNfv48-LekRsKDHFuHEm1gBYphsCC18iR2WikU'\n",
      "title: 'E-Chart'\n",
      "date: '2020-02-27T19:44:20.933Z'\n",
      "version: 24\n",
      "mimeType: 'text/x-markdown'\n",
      "links: []\n",
      "source: 'https://drive.google.com/open?id=1DIVVSjNfv48-LekRsKDHFuHEm1gBYphsCC18iR2WikU'\n",
      "wikigdrive: 'dd69069d725fca5f553df7ded62e130a49d49ca6'\n",
      "---\n",
      "The electronic chart, or E-Chart, is an essential component of the {{% system-name %}} solution. It allows for a single, integrated view of all scanned and electronic documents, as well as all recor\n",
      "Metadata: {'source': 'functions\\\\e-chart.md'}\n",
      "\n",
      "Content: ---\n",
      "id: '1WybRBSEox5cSECcPwj3PJOArnmlFKwVMkNlT6gq1qSQ'\n",
      "title: 'Document Management'\n",
      "date: '2020-02-27T21:09:07.746Z'\n",
      "version: 42\n",
      "lastAuthor: 'aquandt'\n",
      "mimeType: 'text/x-markdown'\n",
      "links:\n",
      "- 'document-management/documents-and-forms.md'\n",
      "- 'document-management/scanning-and-indexing.md'\n",
      "- 'document-management/printing-and-print-definitions.md'\n",
      "- 'document-management/imaging.md'\n",
      "source: 'https://drive.google.com/open?id=1WybRBSEox5cSECcPwj3PJOArnmlFKwVMkNlT6gq1qSQ'\n",
      "wikigdrive: 'dd69069d725fca5f553df7de\n",
      "Metadata: {'source': 'functions\\\\document-management.md'}\n",
      "\n",
      "Content: ---\n",
      "id: '1eOjuYvCVKoiTlMeMzqy6HG8-S3ony9TFD_qIZvh3854'\n",
      "title: 'E-Sign (Electronic Signature)'\n",
      "date: '2020-02-27T20:10:15.661Z'\n",
      "version: 23\n",
      "mimeType: 'text/x-markdown'\n",
      "links: []\n",
      "source: 'https://drive.google.com/open?id=1eOjuYvCVKoiTlMeMzqy6HG8-S3ony9TFD_qIZvh3854'\n",
      "wikigdrive: 'dd69069d725fca5f553df7ded62e130a49d49ca6'\n",
      "---\n",
      "{{% system-name %}} offers the ability for electronic signature, or an e-sign option, designed to improve workflow efficiency. E-signatures can be requested manually, with note\n",
      "Metadata: {'source': 'functions\\\\e-sign-electronic-signature.md'}\n",
      "\n"
     ]
    }
   ],
   "source": [
    "from langchain_text_splitters import MarkdownHeaderTextSplitter\n",
    "from langchain.schema import Document\n",
    "from langchain_text_splitters import RecursiveCharacterTextSplitter\n",
    "\n",
    "\n",
    "# Define headers to split on\n",
    "headers_to_split_on = [\n",
    "    (\"#\", \"Header 1\"),\n",
    "    (\"##\", \"Header 2\"),\n",
    "    (\"###\", \"Header 3\"),\n",
    "]\n",
    "\n",
    "# Initialize the MarkdownHeaderTextSplitter\n",
    "markdown_splitter = MarkdownHeaderTextSplitter(headers_to_split_on=headers_to_split_on)\n",
    "\n",
    "# Apply the markdown splitter to the text content of each document\n",
    "md_header_splits = []\n",
    "for doc in docs:\n",
    "    splits = markdown_splitter.split_text(doc.page_content)\n",
    "    for split in splits:\n",
    "        md_header_splits.append(Document(page_content=split.page_content, metadata=doc.metadata))\n",
    "\n",
    "# Print sample documents after splitting by markdown headers\n",
    "print(\"\\nSample documents after splitting by markdown headers:\")\n",
    "for doc in md_header_splits[:3]:\n",
    "    print(f\"Content: {doc.page_content[:500]}\")  # Print the first 500 characters\n",
    "    print(f\"Metadata: {doc.metadata}\\n\")\n",
    "\n",
    "# Initialize the RecursiveCharacterTextSplitter\n",
    "text_splitter = RecursiveCharacterTextSplitter(\n",
    "    chunk_size=500, chunk_overlap=50,\n",
    "    separators=[\"\\n\\n\", \"\\n\", \".\", \";\", \",\", \" \"],\n",
    ")\n",
    "\n",
    "# Chunk the split documents\n",
    "chunked_docs = text_splitter.split_documents(md_header_splits)\n",
    "\n"
   ]
  },
  {
   "cell_type": "code",
   "execution_count": 6,
   "id": "fd103c85-a12e-4a94-914f-aab8b4ec7400",
   "metadata": {},
   "outputs": [],
   "source": [
    "embeddings = NVIDIAEmbeddings()"
   ]
  },
  {
   "cell_type": "code",
   "execution_count": 7,
   "id": "d0c2747d-50c3-49aa-b0c3-92ecb2e04656",
   "metadata": {},
   "outputs": [
    {
     "ename": "NameError",
     "evalue": "name 'chunked_docs' is not defined",
     "output_type": "error",
     "traceback": [
      "\u001b[1;31m---------------------------------------------------------------------------\u001b[0m",
      "\u001b[1;31mNameError\u001b[0m                                 Traceback (most recent call last)",
      "Cell \u001b[1;32mIn[7], line 8\u001b[0m\n\u001b[0;32m      4\u001b[0m \u001b[38;5;28;01mfrom\u001b[39;00m \u001b[38;5;21;01mlangchain_core\u001b[39;00m\u001b[38;5;21;01m.\u001b[39;00m\u001b[38;5;21;01mprompts\u001b[39;00m \u001b[38;5;28;01mimport\u001b[39;00m ChatPromptTemplate, PromptTemplate\n\u001b[0;32m      5\u001b[0m \u001b[38;5;28;01mfrom\u001b[39;00m \u001b[38;5;21;01mlangchain_community\u001b[39;00m\u001b[38;5;21;01m.\u001b[39;00m\u001b[38;5;21;01mvectorstores\u001b[39;00m \u001b[38;5;28;01mimport\u001b[39;00m FAISS\n\u001b[1;32m----> 8\u001b[0m vector \u001b[38;5;241m=\u001b[39m FAISS\u001b[38;5;241m.\u001b[39mfrom_documents(chunked_docs, embeddings)\n\u001b[0;32m      9\u001b[0m retriever \u001b[38;5;241m=\u001b[39m vector\u001b[38;5;241m.\u001b[39mas_retriever\n",
      "\u001b[1;31mNameError\u001b[0m: name 'chunked_docs' is not defined"
     ]
    }
   ],
   "source": [
    "from langchain_community.document_loaders import TextLoader\n",
    "from langchain_chroma import Chroma\n",
    "from langchain.output_parsers import PydanticOutputParser\n",
    "from langchain_core.prompts import ChatPromptTemplate, PromptTemplate\n",
    "from langchain_community.vectorstores import FAISS\n",
    "\n",
    "\n",
    "vector = FAISS.from_documents(chunked_docs, embeddings)\n",
    "retriever = vector.as_retriever\n"
   ]
  },
  {
   "cell_type": "code",
   "execution_count": 8,
   "id": "1a45e6a1-8994-4345-aadf-fab3017741e2",
   "metadata": {},
   "outputs": [
    {
     "ename": "NameError",
     "evalue": "name 'vector' is not defined",
     "output_type": "error",
     "traceback": [
      "\u001b[1;31m---------------------------------------------------------------------------\u001b[0m",
      "\u001b[1;31mNameError\u001b[0m                                 Traceback (most recent call last)",
      "Cell \u001b[1;32mIn[8], line 3\u001b[0m\n\u001b[0;32m      1\u001b[0m query \u001b[38;5;241m=\u001b[39m \u001b[38;5;124m\"\u001b[39m\u001b[38;5;124mWhat functionalities does the document management system provide\u001b[39m\u001b[38;5;124m\"\u001b[39m\n\u001b[0;32m      2\u001b[0m \u001b[38;5;66;03m# docs = db.similarity_search(query)\u001b[39;00m\n\u001b[1;32m----> 3\u001b[0m retriever \u001b[38;5;241m=\u001b[39m vector\u001b[38;5;241m.\u001b[39mas_retriever()\n\u001b[0;32m      4\u001b[0m docs \u001b[38;5;241m=\u001b[39m retriever\u001b[38;5;241m.\u001b[39minvoke(query)\n\u001b[0;32m      5\u001b[0m \u001b[38;5;28mprint\u001b[39m (docs)\n",
      "\u001b[1;31mNameError\u001b[0m: name 'vector' is not defined"
     ]
    }
   ],
   "source": [
    "query = \"What functionalities does the document management system provide\"\n",
    "# docs = db.similarity_search(query)\n",
    "retriever = vector.as_retriever()\n",
    "docs = retriever.invoke(query)\n",
    "print (docs)"
   ]
  },
  {
   "cell_type": "code",
   "execution_count": 16,
   "id": "b22e3925-7241-41fe-a83e-bfabc28786aa",
   "metadata": {},
   "outputs": [],
   "source": [
    "\n",
    "from langchain_core.prompts import ChatPromptTemplate\n",
    "from langchain_core.output_parsers import StrOutputParser\n",
    "from langchain_community.vectorstores import FAISS\n",
    "\n",
    "\n",
    "\n",
    "model = ChatNVIDIA(model=\"meta/llama3-70b-instruct\")"
   ]
  },
  {
   "cell_type": "code",
   "execution_count": 17,
   "id": "84c513e5-4d09-4e66-af07-d05f1f81373e",
   "metadata": {},
   "outputs": [
    {
     "data": {
      "text/plain": [
       "ChatNVIDIA(model='meta/llama3-70b-instruct')"
      ]
     },
     "execution_count": 17,
     "metadata": {},
     "output_type": "execute_result"
    }
   ],
   "source": [
    "model"
   ]
  },
  {
   "cell_type": "code",
   "execution_count": 18,
   "id": "855ef866-baee-43dd-8d2e-ad08735f0eac",
   "metadata": {},
   "outputs": [],
   "source": [
    "hyde_template = \"\"\"Even if you do not know the full answer, generate a one-paragraph hypothetical answer to the below question:\n",
    "\n",
    "{question}\"\"\"\n",
    "hyde_prompt = ChatPromptTemplate.from_template(hyde_template)\n",
    "hyde_query_transformer = hyde_prompt | model | StrOutputParser()"
   ]
  },
  {
   "cell_type": "code",
   "execution_count": 19,
   "id": "10a8b7e1-8943-4a71-bb72-8f9a517a9d97",
   "metadata": {},
   "outputs": [],
   "source": [
    "from langchain_core.runnables import chain\n",
    "\n",
    "@chain\n",
    "def hyde_retriever(question):\n",
    "    hypothetical_document = hyde_query_transformer.invoke({\"question\": question})\n",
    "    return retriever.invoke(hypothetical_document)"
   ]
  },
  {
   "cell_type": "code",
   "execution_count": 20,
   "id": "a5946b7d-4f25-47b8-b89a-dde205c70c35",
   "metadata": {},
   "outputs": [],
   "source": [
    "template = \"\"\"Answer the question based only on the following context:\n",
    "{context}\n",
    "\n",
    "Question: {question}\n",
    "\"\"\"\n",
    "prompt = ChatPromptTemplate.from_template(template)\n",
    "answer_chain = prompt | model | StrOutputParser()"
   ]
  },
  {
   "cell_type": "code",
   "execution_count": 21,
   "id": "6230c410-797f-42d3-8593-5ab87e13ba43",
   "metadata": {},
   "outputs": [],
   "source": [
    "@chain\n",
    "def final_chain(question):\n",
    "    documents = hyde_retriever.invoke(question)\n",
    "    for s in answer_chain.stream({\"question\": question, \"context\": documents}):\n",
    "        yield s"
   ]
  },
  {
   "cell_type": "code",
   "execution_count": 22,
   "id": "e1a47ec0-983e-4367-8fef-7d99451050d2",
   "metadata": {},
   "outputs": [
    {
     "name": "stdout",
     "output_type": "stream",
     "text": [
      "Based on the provided context, the system provides the following functionalities for managing patient flow:\n",
      "\n",
      "1. Initiation of patient encounters\n",
      "2. Notifications for clinical staff of patients' locations\n",
      "3. Tracking of patient wait times\n",
      "4. Moving patients between varying stations or locations through to checkout using the Station Manager feature\n",
      "5. Color-coded station alerts to notify users when a patient has remained at a station for an extended period of time\n",
      "6. Fast and easily-navigated functionality for searching current charts and documents\n",
      "7. Functionality for registering new patients\n",
      "8. Automated checkout of patients not checked out by staff at the end of the day (configurable)"
     ]
    }
   ],
   "source": [
    "\n",
    "for s in final_chain.stream(\"What functionalities does the system provide for managing patient flow\"):\n",
    "    print(s, end=\"\")"
   ]
  },
  {
   "cell_type": "code",
   "execution_count": 23,
   "id": "8654afa9-0221-4b69-96c6-5170033133dd",
   "metadata": {},
   "outputs": [
    {
     "name": "stdout",
     "output_type": "stream",
     "text": [
      "According to the provided context, the document management system improves client experience by providing \"easy chart access, anywhere, anytime\" and \"hassle-free interoperability and integrated workflows, intended to streamline operations and communication.\""
     ]
    }
   ],
   "source": [
    "for s in final_chain.stream(\"How does the document management system improve client experience?\"):\n",
    "    print(s, end=\"\")"
   ]
  },
  {
   "cell_type": "code",
   "execution_count": 24,
   "id": "e4b06c48-cc79-44a9-a2cc-b3eded61065e",
   "metadata": {},
   "outputs": [
    {
     "name": "stdout",
     "output_type": "stream",
     "text": [
      "According to the provided context, the E-Sign module allows for:\n",
      "\n",
      "1. Adding documents\n",
      "2. Adding tasks\n",
      "3. Adding dictations\n",
      "4. Requesting co-signers or multiple signatures as needed.\n",
      "\n",
      "It is also mentioned that the E-Sign module has a \"Pending Reviews\" tab, but the exact functionality of this tab is not specified."
     ]
    }
   ],
   "source": [
    "for s in final_chain.stream(\"What functionalities does the E-Sign module provide?\"):\n",
    "    print(s, end=\"\")"
   ]
  },
  {
   "cell_type": "code",
   "execution_count": 25,
   "id": "f7af1870-a6d0-4155-8196-98e229dddc19",
   "metadata": {},
   "outputs": [
    {
     "name": "stdout",
     "output_type": "stream",
     "text": [
      "According to the provided context, the system supports telehealth in the following ways:\n",
      "\n",
      "1. Rapid addition of telehealth capability to the system, including audio and video capabilities.\n",
      "2. Patients can join a video visit from a portal branded to the clinic or practice, using a computer equipped with a camera or a smartphone or mobile device.\n",
      "3. The system's telehealth functionality adheres to guidance provided by the U.S. Department of Health and Human Services.\n",
      "\n",
      "Overall, the system enables clinics and practices to manage telehealth visits while using a fully-certified electronic health record."
     ]
    }
   ],
   "source": [
    "for s in final_chain.stream(\"How does the system support telehealth?\"):\n",
    "    print(s, end=\"\")"
   ]
  },
  {
   "cell_type": "code",
   "execution_count": 26,
   "id": "b74d2861-1ec7-4d23-bf6a-43f3f1c2cfef",
   "metadata": {},
   "outputs": [],
   "source": [
    "# Enhanced HYDE Template\n",
    "hyde_template = \"\"\"Even if you do not know the full answer, generate a one-paragraph hypothetical answer to the below question. Make sure to stay relevant to the topic and include plausible details that align with common functionalities in document management systems:\n",
    "\n",
    "{question}\"\"\"\n",
    "hyde_prompt = ChatPromptTemplate.from_template(hyde_template)\n",
    "hyde_query_transformer = hyde_prompt | model | StrOutputParser()\n"
   ]
  },
  {
   "cell_type": "code",
   "execution_count": 27,
   "id": "20614518-f322-4537-b408-df6a5dbac817",
   "metadata": {},
   "outputs": [],
   "source": [
    "# Define the chain\n",
    "from langchain_core.runnables import chain\n",
    "\n",
    "@chain\n",
    "def hyde_retriever(question):\n",
    "    hypothetical_document = hyde_query_transformer.invoke({\"question\": question})\n",
    "    return retriever.invoke(hypothetical_document)"
   ]
  },
  {
   "cell_type": "code",
   "execution_count": 28,
   "id": "6c734273-4e2b-4ea6-a0c3-ff1e975826ad",
   "metadata": {},
   "outputs": [],
   "source": [
    "# Enhanced Main Template\n",
    "template = \"\"\"Answer the question based only on the following context. Ensure your answer is precise, accurate, and directly addresses the question:\n",
    "\n",
    "{context}\n",
    "\n",
    "Question: {question}\n",
    "\"\"\"\n",
    "prompt = ChatPromptTemplate.from_template(template)\n",
    "answer_chain = prompt | model | StrOutputParser()"
   ]
  },
  {
   "cell_type": "code",
   "execution_count": 29,
   "id": "d1a066fd-b723-4ea7-818f-bf78a62ec81f",
   "metadata": {},
   "outputs": [],
   "source": [
    "@chain\n",
    "def final_chain(question):\n",
    "    documents = hyde_retriever.invoke(question)\n",
    "    for s in answer_chain.stream({\"question\": question, \"context\": documents}):\n",
    "        yield s"
   ]
  },
  {
   "cell_type": "code",
   "execution_count": 30,
   "id": "941d4272-0da6-4a66-a447-7bca8bc4022e",
   "metadata": {},
   "outputs": [],
   "source": [
    "# Test the chains with different questions\n",
    "questions = [\n",
    "    \"What functionalities does the system provide for managing patient flow?\",\n",
    "    \"How does the document management system improve client experience?\",\n",
    "    \"What functionalities does the E-Sign module provide?\",\n",
    "    \"How does the system support telehealth?\"\n",
    "]"
   ]
  },
  {
   "cell_type": "code",
   "execution_count": 31,
   "id": "c8b4c79a-7c66-4a80-8229-810c9c9ac93a",
   "metadata": {},
   "outputs": [
    {
     "name": "stdout",
     "output_type": "stream",
     "text": [
      "\n",
      "Question: What functionalities does the system provide for managing patient flow?\n",
      "According to the provided context, the system provides the following functionalities for managing patient flow:\n",
      "\n",
      "1. Initiation of patient encounters\n",
      "2. Notifications for clinical staff of patients' locations\n",
      "3. Tracking of patient wait times\n",
      "4. Moving patients between varying stations or locations through to checkout using the Station Manager\n",
      "5. Color-coded station alerts for extended patient wait times\n",
      "6. Fast and easily-navigated functionality for searching current charts and documents\n",
      "7. Registering new patients\n",
      "8. One-Click Checkin to quickly check in patients from the Scheduler\n",
      "9. Evaluating patient flow through check-in and appointment statistics and reports with filtering options (by resource, station, location, patient, or date range) and printing or tasking reports to administrators for review.\n",
      "\n",
      "\n",
      "Question: How does the document management system improve client experience?\n",
      "According to the provided context, the document management system improves client experience by providing \"easy chart access, anywhere, anytime\" and \"hassle-free interoperability and integrated workflows, intended to streamline operations and communication.\"\n",
      "\n",
      "\n",
      "Question: What functionalities does the E-Sign module provide?\n",
      "According to the provided context, the E-Sign module allows for:\n",
      "\n",
      "1. Adding documents\n",
      "2. Adding tasks\n",
      "3. Adding dictations\n",
      "4. Requesting co-signers or multiple signatures as needed.\n",
      "\n",
      "\n",
      "Question: How does the system support telehealth?\n",
      "Based on the provided context, the system supports telehealth in the following ways:\n",
      "\n",
      "1. Rapid deployment for clinics and practices to manage telehealth visits.\n",
      "2. Telehealth functionality adheres to guidance provided by the U.S. Department of Health and Human Services.\n",
      "3. Audio and video capabilities that make it easy for clinicians and patients to conduct a virtual visit.\n",
      "4. Patients can join a video visit from a portal branded to the clinic or practice, using a computer, smartphone, or mobile device.\n",
      "5. Clinicians can initiate or join a telehealth visit from the system application and document the visit as it occurs.\n",
      "\n"
     ]
    }
   ],
   "source": [
    "for question in questions:\n",
    "    print(f\"\\nQuestion: {question}\")\n",
    "    for s in final_chain.stream(question):\n",
    "        print(s, end=\"\")\n",
    "    print(\"\\n\")"
   ]
  },
  {
   "cell_type": "code",
   "execution_count": 33,
   "id": "ef273ce3-6a77-4d96-b150-6dad0e31785e",
   "metadata": {},
   "outputs": [],
   "source": [
    "import faiss\n",
    "import pickle\n",
    "\n",
    "# Save the FAISS index\n",
    "faiss.write_index(vector.index, \"faiss_index.bin\")\n",
    "\n",
    "# Save the metadata\n",
    "with open(\"faiss_metadata.pkl\", \"wb\") as f:\n",
    "    pickle.dump(vector.docstore, f)"
   ]
  },
  {
   "cell_type": "code",
   "execution_count": 39,
   "id": "e00acbda-cf48-4dd3-98c4-3854f2f66798",
   "metadata": {},
   "outputs": [
    {
     "name": "stderr",
     "output_type": "stream",
     "text": [
      "tar: : Couldn't visit directory: No such file or directory\n",
      "tar: Error exit delayed from previous errors.\n",
      "'rm' is not recognized as an internal or external command,\n",
      "operable program or batch file.\n"
     ]
    }
   ],
   "source": [
    "## Save and compress your index\n",
    "vector.save_local(\"FAISS_index\")\n",
    "!tar czvf vector.tgz vectorstore_index\n",
    "\n",
    "!rm -rf vectorstore_index"
   ]
  },
  {
   "cell_type": "code",
   "execution_count": 40,
   "id": "959319e5-e47f-46b6-b1bd-5885512cb74d",
   "metadata": {},
   "outputs": [
    {
     "name": "stdout",
     "output_type": "stream",
     "text": [
      "FAISS index saved and compressed successfully.\n"
     ]
    }
   ],
   "source": [
    "import os\n",
    "import tarfile\n",
    "from langchain_community.vectorstores import FAISS\n",
    "\n",
    "# Save the FAISS vector store\n",
    "vector.save_local(\"FAISS_index\")\n",
    "\n",
    "# Compress the saved vector store directory into a tar.gz file\n",
    "with tarfile.open(\"vectorstore_index.tgz\", \"w:gz\") as tar:\n",
    "    tar.add(\"FAISS_index\", arcname=os.path.basename(\"FAISS_index\"))\n",
    "\n",
    "# Remove the original directory after compressing it\n",
    "import shutil\n",
    "shutil.rmtree(\"FAISS_index\")\n",
    "print(\"FAISS index saved and compressed successfully.\")"
   ]
  },
  {
   "cell_type": "code",
   "execution_count": 43,
   "id": "9382934c-a6f5-4550-b0eb-9b43af420be5",
   "metadata": {},
   "outputs": [
    {
     "name": "stdout",
     "output_type": "stream",
     "text": [
      ". For more information on how to index, please see other help documentation named *Indexing.pdf*\n"
     ]
    }
   ],
   "source": [
    "import os\n",
    "import tarfile\n",
    "from langchain_nvidia_ai_endpoints import NVIDIAEmbeddings\n",
    "from langchain_community.vectorstores import FAISS\n",
    "\n",
    "# Decompress the tar.gz file\n",
    "with tarfile.open(\"vectorstore_index.tgz\", \"r:gz\") as tar:\n",
    "    tar.extractall()\n",
    "\n",
    "# Initialize the embedding model\n",
    "# embeddings = NVIDIAEmbeddings(model=\"ai-embed-qa-4\")\n",
    "\n",
    "# Load the FAISS vector store\n",
    "new_db = FAISS.load_local(\"FAISS_index\", embeddings, allow_dangerous_deserialization=True)\n",
    "\n",
    "# Test the loaded vector store\n",
    "docs = new_db.similarity_search(\"Testing the index\")\n",
    "print(docs[0].page_content[:1000])"
   ]
  },
  {
   "cell_type": "code",
   "execution_count": 46,
   "id": "84516ba7-a3e3-4aac-8991-68a58df361b5",
   "metadata": {},
   "outputs": [
    {
     "name": "stdout",
     "output_type": "stream",
     "text": [
      "Running on local URL:  http://127.0.0.1:7860\n",
      "Running on public URL: https://702eb60f5d9bcb5ae5.gradio.live\n",
      "\n",
      "This share link expires in 72 hours. For free permanent hosting and GPU upgrades, run `gradio deploy` from Terminal to deploy to Spaces (https://huggingface.co/spaces)\n"
     ]
    },
    {
     "data": {
      "text/html": [
       "<div><iframe src=\"https://702eb60f5d9bcb5ae5.gradio.live\" width=\"100%\" height=\"500\" allow=\"autoplay; camera; microphone; clipboard-read; clipboard-write;\" frameborder=\"0\" allowfullscreen></iframe></div>"
      ],
      "text/plain": [
       "<IPython.core.display.HTML object>"
      ]
     },
     "metadata": {},
     "output_type": "display_data"
    },
    {
     "data": {
      "text/plain": []
     },
     "execution_count": 46,
     "metadata": {},
     "output_type": "execute_result"
    }
   ],
   "source": [
    "import gradio as gr\n",
    "\n",
    "def answer_question(question):\n",
    "    responses = []\n",
    "    for s in final_chain.stream(question):\n",
    "        responses.append(s)\n",
    "    return \"\".join(responses)\n",
    "\n",
    "# Set up the Gradio interface\n",
    "iface = gr.Interface(\n",
    "    fn=answer_question,\n",
    "    inputs=gr.Textbox(lines=2, placeholder=\"Enter your question here...\"),\n",
    "    outputs=gr.Textbox(),\n",
    "    title=\"Document Management System Q&A\",\n",
    "    description=\"Ask questions about the functionalities of the Document Management System.\"\n",
    ")\n",
    "\n",
    "# Launch the interface\n",
    "iface.launch(share=True)"
   ]
  },
  {
   "cell_type": "code",
   "execution_count": null,
   "id": "7cf0ce23-2cca-43b1-9300-cb954123b34d",
   "metadata": {},
   "outputs": [],
   "source": []
  }
 ],
 "metadata": {
  "kernelspec": {
   "display_name": "Python 3 (ipykernel)",
   "language": "python",
   "name": "python3"
  },
  "language_info": {
   "codemirror_mode": {
    "name": "ipython",
    "version": 3
   },
   "file_extension": ".py",
   "mimetype": "text/x-python",
   "name": "python",
   "nbconvert_exporter": "python",
   "pygments_lexer": "ipython3",
   "version": "3.11.9"
  }
 },
 "nbformat": 4,
 "nbformat_minor": 5
}
